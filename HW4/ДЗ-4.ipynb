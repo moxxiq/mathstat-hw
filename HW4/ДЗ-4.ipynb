{
 "cells": [
  {
   "cell_type": "markdown",
   "metadata": {},
   "source": [
    "# Варіант 4"
   ]
  },
  {
   "cell_type": "markdown",
   "metadata": {},
   "source": [
    "#### 1. З нормальної генеральної сукупності взято вибірку об’ємом $n=17$, знайдено її виправлену вибіркову дисперсію $s^2=0.24$. Перевірити при рівні значущості 0,05 нульову гіпотезу $H_0:\\sigma^2=\\sigma_0^2=0.18$, альтернативна гіпотеза $H_1:\\sigma^2>0.18$"
   ]
  },
  {
   "cell_type": "code",
   "execution_count": 1,
   "metadata": {},
   "outputs": [],
   "source": [
    "from sys import path\n",
    "path.append('..')\n",
    "import mathstat\n",
    "n = 17\n",
    "s12 = 0.24\n",
    "sigma22 = 0.18\n",
    "alpha = 0.05"
   ]
  },
  {
   "cell_type": "markdown",
   "metadata": {},
   "source": [
    "Знайдемо спостережуване значення критерію $\\chi_{спост.}=\\dfrac{(n-1)s^2}{\\sigma_0^2}$"
   ]
  },
  {
   "cell_type": "code",
   "execution_count": 2,
   "metadata": {},
   "outputs": [
    {
     "name": "stdout",
     "output_type": "stream",
     "text": [
      "chi=21.333333333333332\n"
     ]
    }
   ],
   "source": [
    "chi = (n-1)*s12/sigma22\n",
    "print(f\"{chi=}\")"
   ]
  },
  {
   "cell_type": "code",
   "execution_count": 3,
   "metadata": {},
   "outputs": [
    {
     "name": "stdout",
     "output_type": "stream",
     "text": [
      "Кількість ступенів вільності k=16\n"
     ]
    }
   ],
   "source": [
    "k = n - 1\n",
    "print(f\"Кількість ступенів вільності {k=}\")"
   ]
  },
  {
   "cell_type": "markdown",
   "metadata": {},
   "source": [
    "За умовою, альтернативна гіпотеза має вигляд $H_1:\\sigma^2>0.18$, тому критична область правостороння. По таблиці критичних точок розподілу $\\chi^2$ за заданим рівнем значущості 0.05 і кількістю ступенів вільності k = 16 знаходтмо критичну точку. Замість таблиці використаємо модуль scipy.stats.chi2 оскільки в обох випадках дії по знаходженню - одникові"
   ]
  },
  {
   "cell_type": "code",
   "execution_count": 4,
   "metadata": {
    "scrolled": true
   },
   "outputs": [
    {
     "name": "stdout",
     "output_type": "stream",
     "text": [
      "Критична точка хі-квадрат = 26.29622760486423\n"
     ]
    }
   ],
   "source": [
    "from scipy.stats import chi2\n",
    "chi_critical = chi2.ppf(1-alpha, k)\n",
    "print(f\"Критична точка хі-квадрат = {chi_critical}\")"
   ]
  },
  {
   "cell_type": "code",
   "execution_count": 5,
   "metadata": {
    "scrolled": true
   },
   "outputs": [
    {
     "name": "stdout",
     "output_type": "stream",
     "text": [
      "True\n"
     ]
    }
   ],
   "source": [
    "print(chi<chi_critical)"
   ]
  },
  {
   "cell_type": "markdown",
   "metadata": {},
   "source": [
    "$\\chi_{спост.}<\\chi_{крит.} 21.(3) < 26.3$ Отже немає підстав відхилити нульову гіпотезу"
   ]
  },
  {
   "cell_type": "markdown",
   "metadata": {},
   "source": [
    "#### 2. Дві лабораторії однаковим методом в однаковій послідовності визначали вміст вуглецю в 13 зразках сталі. Отримані наступні результати аналізів:\n",
    "\n",
    "| І |$x_i$| лабораторія | 0,18 | 0,12 | 0,12 | 0,08 | 0,08 | 0,12 | 0,19 | 0,32 | 0,27 | 0,22 | 0,34 | 0,14 | 0,46 |\n",
    "|---|---|-------------|------|------|------|------|------|------|------|------|------|------|------|------|------|\n",
    "|ІІ |$y_i$|лабораторія  | 0,16 | 0,09 | 0,08 | 0,05 | 0,13 | 0,10 | 0,14 | 0,30 | 0,31 | 0,24 | 0,28 | 0,11 | 0,42 |\n",
    "\n",
    "#### На рівні значущості 0,05 з’ясувати, істотно чи неістотно відрізняються середні результати аналізів в припущенні, що вони розподілені нормально.\n"
   ]
  },
  {
   "cell_type": "code",
   "execution_count": 6,
   "metadata": {},
   "outputs": [],
   "source": [
    "import numpy as np\n",
    "n = 13\n",
    "k = n-1\n",
    "alpha = 0.05\n",
    "x_i = np.array([0.18, 0.12, 0.12, 0.08, 0.08, 0.12, 0.19, 0.32, 0.27, 0.22, 0.34, 0.14, 0.46])\n",
    "y_i = np.array([0.16, 0.09, 0.08, 0.05, 0.13, 0.10, 0.14, 0.30, 0.31, 0.24, 0.28, 0.11, 0.42])"
   ]
  },
  {
   "cell_type": "markdown",
   "metadata": {},
   "source": [
    "Побудуємо допоміжну вибірку $d_i$"
   ]
  },
  {
   "cell_type": "code",
   "execution_count": 7,
   "metadata": {},
   "outputs": [
    {
     "name": "stdout",
     "output_type": "stream",
     "text": [
      "d_i = [ 0.02  0.03  0.04  0.03 -0.05  0.02  0.05  0.02 -0.04 -0.02  0.06  0.03\n",
      "  0.04]\n"
     ]
    }
   ],
   "source": [
    "d_i = x_i-y_i\n",
    "print(\"d_i =\",d_i)"
   ]
  },
  {
   "cell_type": "markdown",
   "metadata": {},
   "source": [
    " Обчислимо вибіркове середнє $\\bar{d}$ і виправлене середньоквадратичне відхилення $s_d$"
   ]
  },
  {
   "cell_type": "code",
   "execution_count": 8,
   "metadata": {},
   "outputs": [
    {
     "name": "stdout",
     "output_type": "stream",
     "text": [
      "d_sample_mean=0.017692307692307695 \n",
      "sd_corr_variance=0.0011358974358974358\n"
     ]
    }
   ],
   "source": [
    "d_sample_mean = mathstat.calc_sample_mean(d_i)\n",
    "sd_corr_variance = mathstat.correct_variance(mathstat.calc_variance(d_i), n)\n",
    "print(f\"{d_sample_mean=} \\n{sd_corr_variance=}\")"
   ]
  },
  {
   "cell_type": "markdown",
   "metadata": {},
   "source": [
    "Обчислимо спостережуване значення критерію $T_{спост.}=\\dfrac{\\bar{d}\\sqrt n}{s_d}$"
   ]
  },
  {
   "cell_type": "code",
   "execution_count": 9,
   "metadata": {},
   "outputs": [
    {
     "name": "stdout",
     "output_type": "stream",
     "text": [
      "T=56.15869932438269\n"
     ]
    }
   ],
   "source": [
    "T = d_sample_mean*mathstat.math.sqrt(n)/sd_corr_variance\n",
    "print(f\"{T=}\")"
   ]
  },
  {
   "cell_type": "markdown",
   "metadata": {},
   "source": [
    "За таблицею критичних точок розподілу Стьюдента, за рівнем значущості 0,05, вміщеним у верхньому рядку таблиці, і кількістю ступенів вільності k = 12 знаходимо критичну точку. Замість таблиці використаємо модуль scipy.stats.t але врахуємо, що цього разу критична область двобічна"
   ]
  },
  {
   "cell_type": "code",
   "execution_count": 10,
   "metadata": {},
   "outputs": [
    {
     "name": "stdout",
     "output_type": "stream",
     "text": [
      "Критична точка T(0.05,12) = 2.18\n"
     ]
    }
   ],
   "source": [
    "from scipy.stats import t\n",
    "T_critical = t.ppf(1-alpha/2, k)\n",
    "print(f\"Критична точка T({alpha},{k}) = {round(T_critical,2)}\")"
   ]
  },
  {
   "cell_type": "markdown",
   "metadata": {},
   "source": [
    "$T_{спост.}>T_{критичне}\\ \\ 56.16>2.18$ Нульову гіпотезу відхиляєм"
   ]
  }
 ],
 "metadata": {
  "kernelspec": {
   "display_name": "Python 3",
   "language": "python",
   "name": "python3"
  },
  "language_info": {
   "codemirror_mode": {
    "name": "ipython",
    "version": 3
   },
   "file_extension": ".py",
   "mimetype": "text/x-python",
   "name": "python",
   "nbconvert_exporter": "python",
   "pygments_lexer": "ipython3",
   "version": "3.8.3"
  }
 },
 "nbformat": 4,
 "nbformat_minor": 4
}
