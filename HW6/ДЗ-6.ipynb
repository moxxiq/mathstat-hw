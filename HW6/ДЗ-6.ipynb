{
 "cells": [
  {
   "cell_type": "markdown",
   "metadata": {},
   "source": [
    "# Варіант 4\n",
    "### В трьох регіонах протягом 8 місяців вимірювалася кількість опадів в мм. Перевірити на рівні значущості $\\alpha = 0.1$ гіпотезу про однакову середню кількість опадів а регіонах.\n",
    "*вибірки вважаються витягнутими з нормально розподілених генеральних сукупностей з однаковими дисперсіями*\n",
    "<table cellspacing=5% style=\"border-color:black; width: 70%;\">\n",
    "<thead>\n",
    "  <tr>\n",
    "    <th rowspan=\"2\" style=\"text-align: right\">Місяць спостереження  </th>\n",
    "    <th colspan=\"3\" style=\"text-align: center; width=10%\">Регіон (фактор $F$)</th>\n",
    "  </tr>\n",
    "  <tr>\n",
    "    <td>$F_1$</td>\n",
    "    <td> $F_2$</td>\n",
    "    <td>$F_3$ </td>\n",
    "  </tr>\n",
    "</thead>\n",
    "<tbody>\n",
    "  <tr>\n",
    "    <td>1 </td>\n",
    "    <td>33</td>\n",
    "    <td>16</td>\n",
    "    <td>20</td>\n",
    "  </tr>\n",
    "  <tr>\n",
    "    <td>2 </td>\n",
    "    <td>28</td>\n",
    "    <td>17</td>\n",
    "    <td>21</td>\n",
    "  </tr>\n",
    "  <tr>\n",
    "    <td>3 </td>\n",
    "    <td>21</td>\n",
    "    <td>20</td>\n",
    "    <td>24</td>\n",
    "  </tr>\n",
    "  <tr>\n",
    "    <td>4 </td>\n",
    "    <td>25</td>\n",
    "    <td>19</td>\n",
    "    <td>19</td>\n",
    "  </tr>\n",
    "  <tr>\n",
    "    <td>5 </td>\n",
    "    <td>21</td>\n",
    "    <td>20</td>\n",
    "    <td>19</td>\n",
    "  </tr>\n",
    "  <tr>\n",
    "    <td>6 </td>\n",
    "    <td>41</td>\n",
    "    <td>18</td>\n",
    "    <td>21</td>\n",
    "  </tr>\n",
    "  <tr>\n",
    "    <td>7 </td>\n",
    "    <td>23</td>\n",
    "    <td>19</td>\n",
    "    <td>27</td>\n",
    "  </tr>\n",
    "  <tr>\n",
    "    <td>8 </td>\n",
    "    <td>19</td>\n",
    "    <td>27</td>\n",
    "    <td>36</td>\n",
    "  </tr>\n",
    "</tbody>\n",
    "</table>"
   ]
  },
  {
   "cell_type": "code",
   "execution_count": 1,
   "metadata": {},
   "outputs": [],
   "source": [
    "from sys import path\n",
    "path.append('..')\n",
    "from mathstat import * \n",
    "from IPython.display import HTML, Latex, display\n",
    "alpha = 0.1\n",
    "n = 8 # number of measurements (rows)\n",
    "m = 3 # factor level (cols)\n",
    "data = np.array([33, 16, 20, 28, 17, 21, 21, 20, 24, 25, 19, 19, 21, 20, 19, 41, 18, 21, 23, 19, 27, 19, 27, 36]).reshape(n,m)"
   ]
  },
  {
   "cell_type": "markdown",
   "metadata": {},
   "source": [
    "Для перевірки гіпотези про рівність групових середніх обчислюємо за вибірковими даними $S_{заг.}$ та $S_{факт.}$ проте задля спрощення обчислень можемо знайти середнє значення спостережень $\\bar{x}_{**}=\\frac{1}{mn}\\sum^m_{i=1}\\sum^n_{j=1}x_{ij}$  віднімемо $С = \\bar{x}_{**}$ з кожного спостережуваного значення $y_{ij} = x_{ij} – C$, обчислимо допоміжні значення. Складемо розрахункову табл. 2"
   ]
  },
  {
   "cell_type": "code",
   "execution_count": 2,
   "metadata": {},
   "outputs": [
    {
     "name": "stdout",
     "output_type": "stream",
     "text": [
      "C = 23\n"
     ]
    },
    {
     "data": {
      "text/html": [
       "\n",
       "<style type=\"text/css\">\n",
       ".tg  {border-collapse:collapse;border-spacing:0;}\n",
       ".tg td{border-color:black;border-style:solid;border-width:1px;font-family:Arial, sans-serif;font-size:14px;\n",
       "  overflow:hidden;padding:10px 15px;word-break:normal;}\n",
       ".tg th{border-color:black;border-style:solid;border-width:1px;font-family:Arial, sans-serif;font-size:14px;\n",
       "  font-weight:normal;overflow:hidden;padding:10px 5px;word-break:normal;}\n",
       ".tg .tg-9wq8{border-color:inherit;text-align:center;vertical-align:middle}\n",
       ".tg .tg-c3ow{border-color:inherit;text-align:center;vertical-align:top}\n",
       ".tg .tg-0pky{border-color:inherit;text-align:center;vertical-align:middle}\n",
       ".tg .tg-baqh{text-align:center;vertical-align:middle}\n",
       "</style>\n",
       "\n",
       "<table class=\"tg\">\n",
       "<thead>\n",
       "<tr>\n",
       "    <th class=\"tg-9wq8\" rowspan=\"2\">j</th>\n",
       "    <th class=\"tg-c3ow\" colspan=\"2\">$F_1$</th>\n",
       "<th class=\"tg-c3ow\" colspan=\"2\">$F_2$</th>\n",
       "<th class=\"tg-c3ow\" colspan=\"2\">$F_3$</th>\n",
       "    <th class=\"tg-0pky\" rowspan=\"2\">$\\sum$</th>\n",
       "</tr>\n",
       "<tr>\n",
       "    <td class=\"tg-c3ow\">$y_{1j}$</td><td class=\"tg-c3ow\">$y_{1j}^2$</td>\n",
       "<td class=\"tg-c3ow\">$y_{2j}$</td><td class=\"tg-c3ow\">$y_{2j}^2$</td>\n",
       "<td class=\"tg-c3ow\">$y_{3j}$</td><td class=\"tg-c3ow\">$y_{3j}^2$</td>\n",
       "</tr>\n",
       "</thead>\n",
       "<tr><td class=\"tg-baqh\">1</td>\n",
       "<td class=\"tg-baqh\">10</td>\n",
       "<td class=\"tg-baqh\">100</td>\n",
       "<td class=\"tg-baqh\">-7</td>\n",
       "<td class=\"tg-baqh\">49</td>\n",
       "<td class=\"tg-baqh\">-3</td>\n",
       "<td class=\"tg-baqh\">9</td>\n",
       "<td class=\"tg-baqh\"></td></tr>\n",
       "<tr><td class=\"tg-baqh\">2</td>\n",
       "<td class=\"tg-baqh\">5</td>\n",
       "<td class=\"tg-baqh\">25</td>\n",
       "<td class=\"tg-baqh\">-6</td>\n",
       "<td class=\"tg-baqh\">36</td>\n",
       "<td class=\"tg-baqh\">-2</td>\n",
       "<td class=\"tg-baqh\">4</td>\n",
       "<td class=\"tg-baqh\"></td></tr>\n",
       "<tr><td class=\"tg-baqh\">3</td>\n",
       "<td class=\"tg-baqh\">-2</td>\n",
       "<td class=\"tg-baqh\">4</td>\n",
       "<td class=\"tg-baqh\">-3</td>\n",
       "<td class=\"tg-baqh\">9</td>\n",
       "<td class=\"tg-baqh\">1</td>\n",
       "<td class=\"tg-baqh\">1</td>\n",
       "<td class=\"tg-baqh\"></td></tr>\n",
       "<tr><td class=\"tg-baqh\">4</td>\n",
       "<td class=\"tg-baqh\">2</td>\n",
       "<td class=\"tg-baqh\">4</td>\n",
       "<td class=\"tg-baqh\">-4</td>\n",
       "<td class=\"tg-baqh\">16</td>\n",
       "<td class=\"tg-baqh\">-4</td>\n",
       "<td class=\"tg-baqh\">16</td>\n",
       "<td class=\"tg-baqh\"></td></tr>\n",
       "<tr><td class=\"tg-baqh\">5</td>\n",
       "<td class=\"tg-baqh\">-2</td>\n",
       "<td class=\"tg-baqh\">4</td>\n",
       "<td class=\"tg-baqh\">-3</td>\n",
       "<td class=\"tg-baqh\">9</td>\n",
       "<td class=\"tg-baqh\">-4</td>\n",
       "<td class=\"tg-baqh\">16</td>\n",
       "<td class=\"tg-baqh\"></td></tr>\n",
       "<tr><td class=\"tg-baqh\">6</td>\n",
       "<td class=\"tg-baqh\">18</td>\n",
       "<td class=\"tg-baqh\">324</td>\n",
       "<td class=\"tg-baqh\">-5</td>\n",
       "<td class=\"tg-baqh\">25</td>\n",
       "<td class=\"tg-baqh\">-2</td>\n",
       "<td class=\"tg-baqh\">4</td>\n",
       "<td class=\"tg-baqh\"></td></tr>\n",
       "<tr><td class=\"tg-baqh\">7</td>\n",
       "<td class=\"tg-baqh\">0</td>\n",
       "<td class=\"tg-baqh\">0</td>\n",
       "<td class=\"tg-baqh\">-4</td>\n",
       "<td class=\"tg-baqh\">16</td>\n",
       "<td class=\"tg-baqh\">4</td>\n",
       "<td class=\"tg-baqh\">16</td>\n",
       "<td class=\"tg-baqh\"></td></tr>\n",
       "<tr><td class=\"tg-baqh\">8</td>\n",
       "<td class=\"tg-baqh\">-4</td>\n",
       "<td class=\"tg-baqh\">16</td>\n",
       "<td class=\"tg-baqh\">4</td>\n",
       "<td class=\"tg-baqh\">16</td>\n",
       "<td class=\"tg-baqh\">13</td>\n",
       "<td class=\"tg-baqh\">169</td>\n",
       "<td class=\"tg-baqh\"></td></tr>\n",
       "<tr><td class=\"tg-baqh\">$$Q_i=\\sum_{j=1}^{8}y_{ij}^2$$</td><td class=\"tg-baqh\"></td><td class=\"tg-baqh\">477</td>\n",
       "<td class=\"tg-baqh\"></td><td class=\"tg-baqh\">176</td>\n",
       "<td class=\"tg-baqh\"></td><td class=\"tg-baqh\">235</td><td class=\"tg-baqh\">$$\\sum_{i=1}^{3}Q_i=888$$</td></tr>\n",
       "<tr><td class=\"tg-baqh\">$$T_i=\\sum_{j=1}^{8}y_{ij}$$</td><td class=\"tg-baqh\">27</td><td class=\"tg-baqh\"></td>\n",
       "<td class=\"tg-baqh\">-28</td><td class=\"tg-baqh\"></td>\n",
       "<td class=\"tg-baqh\">3</td><td class=\"tg-baqh\"></td><td class=\"tg-baqh\">$$\\sum_{i=1}^{3}T_i=2$$</td></tr>\n",
       "<tr><td class=\"tg-baqh\">$T_i^2$</td><td class=\"tg-baqh\">729</td><td class=\"tg-baqh\"></td>\n",
       "<td class=\"tg-baqh\">784</td><td class=\"tg-baqh\"></td>\n",
       "<td class=\"tg-baqh\">9</td><td class=\"tg-baqh\"></td><td class=\"tg-baqh\">$$\\sum_{i=1}^{3}T_i^2=1522$$</td></tr>\n",
       "</table>"
      ],
      "text/plain": [
       "<IPython.core.display.HTML object>"
      ]
     },
     "metadata": {},
     "output_type": "display_data"
    }
   ],
   "source": [
    "C = int(round(data.sum()/(n*m)))\n",
    "print(f\"{C = }\")\n",
    "Y = data-C\n",
    "Y2 = Y**2\n",
    "Q = Y2.sum(axis=0)\n",
    "T = Y.sum(axis=0)\n",
    "T2 = T**2\n",
    "Q_sum = Q.sum()\n",
    "T_sum = T.sum()\n",
    "T2_sum = T2.sum()\n",
    "style = \"\"\"<style type=\"text/css\">\n",
    ".tg  {border-collapse:collapse;border-spacing:0;}\n",
    ".tg td{border-color:black;border-style:solid;border-width:1px;font-family:Arial, sans-serif;font-size:14px;\n",
    "  overflow:hidden;padding:10px 15px;word-break:normal;}\n",
    ".tg th{border-color:black;border-style:solid;border-width:1px;font-family:Arial, sans-serif;font-size:14px;\n",
    "  font-weight:normal;overflow:hidden;padding:10px 5px;word-break:normal;}\n",
    ".tg .tg-9wq8{border-color:inherit;text-align:center;vertical-align:middle}\n",
    ".tg .tg-c3ow{border-color:inherit;text-align:center;vertical-align:top}\n",
    ".tg .tg-0pky{border-color:inherit;text-align:center;vertical-align:middle}\n",
    ".tg .tg-baqh{text-align:center;vertical-align:middle}\n",
    "</style>\n",
    "\"\"\"\n",
    "new_line = '\\n'\n",
    "F_i_template = lambda i: f'<th class=\"tg-c3ow\" colspan=\"2\">$F_{i}$</th>'\n",
    "y_i_template = lambda i: '<td class=\"tg-c3ow\">$y_{'+str(i)+'j}$</td><td class=\"tg-c3ow\">$y_{'+str(i)+'j}^2$</td>'\n",
    "thead = f\"\"\"<table class=\"tg\">\n",
    "<thead>\n",
    "<tr>\n",
    "    <th class=\"tg-9wq8\" rowspan=\"2\">j</th>\n",
    "    {new_line.join(F_i_template(i) for i in range(1,m+1))}\n",
    "    <th class=\"tg-0pky\" rowspan=\"2\">$\\sum$</th>\n",
    "</tr>\n",
    "<tr>\n",
    "    {new_line.join(y_i_template(i) for i in range(1,m+1))}\n",
    "</tr>\n",
    "</thead>\"\"\"\n",
    "row_template = lambda cols: '<tr>'+cols+'</tr>'\n",
    "col_template = lambda cell: '<td class=\"tg-baqh\">'+str(cell)+'</td>'\n",
    "from itertools import chain\n",
    "# prepare list of data\n",
    "list_in_row = lambda j: [j]+(list(chain(*zip(Y[j-1],Y2[j-1]))))+['']\n",
    "cols_in_row = lambda j: new_line.join(map(col_template, list_in_row(j)))\n",
    "\n",
    "Q_row = col_template(r\"$$Q_i=\\sum_{j=1}^{\"+str(n)+\"}y_{ij}^2$$\")+\\\n",
    "    new_line.join(map(lambda c: col_template('')+c,map(col_template, Q)))+\\\n",
    "    col_template('$$\\sum_{i=1}^{'+str(m)+'}Q_i='+str(Q_sum)+'$$')\n",
    "T_row = col_template(r\"$$T_i=\\sum_{j=1}^{\"+str(n)+\"}y_{ij}$$\")+\\\n",
    "    new_line.join(map(lambda c: c+col_template(''),map(col_template, T)))+\\\n",
    "    col_template('$$\\sum_{i=1}^{'+str(m)+'}T_i='+str(T_sum)+'$$')\n",
    "T2_row = col_template(r\"$T_i^2$\")+\\\n",
    "    new_line.join(map(lambda c: c+col_template(''),map(col_template, T2)))+\\\n",
    "    col_template('$$\\sum_{i=1}^{'+str(m)+'}T_i^2='+str(T2_sum)+'$$')\n",
    "\n",
    "display(HTML(f\"\"\"\n",
    "{style}\n",
    "{thead}\n",
    "{new_line.join(row_template(cols_in_row(j)) for j in range(1,n+1))}\n",
    "{row_template(Q_row)}\n",
    "{row_template(T_row)}\n",
    "{row_template(T2_row)}\n",
    "</table>\"\"\"\n",
    "))"
   ]
  },
  {
   "cell_type": "code",
   "execution_count": 3,
   "metadata": {},
   "outputs": [
    {
     "name": "stdout",
     "output_type": "stream",
     "text": [
      "Кількість рівнів фактора m = 3\n",
      "Кількість випробувань на кожному рівні n = 8\n"
     ]
    }
   ],
   "source": [
    "print(f\"Кількість рівнів фактора {m = }\\nКількість випробувань на кожному рівні {n = }\")"
   ]
  },
  {
   "cell_type": "markdown",
   "metadata": {},
   "source": [
    "Знайдемо загальну і факторну суми квадратів відхилень:  \n",
    "$$S_{заг.} = \\sum_{i=1}^mQ_i-\\frac{1}{mn}(\\sum_{i=1}^mT_i)^2$$\n",
    "$$S_{факт.} = \\frac{1}{n}\\sum_{i=1}^m(T_i)^2-\\frac{1}{mn}(\\sum_{i=1}^mT_i)^2$$\n",
    "Знайдемо залишкову суму квадратів відхилень:$S_{зал.}=S_{заг.}-S_{факт.}$"
   ]
  },
  {
   "cell_type": "code",
   "execution_count": 4,
   "metadata": {},
   "outputs": [
    {
     "data": {
      "text/latex": [
       "$$S_{заг.} =887.8333333333334$$$$S_{факт.} =190.08333333333334$$$$S_{зал.} =697.75$$"
      ],
      "text/plain": [
       "<IPython.core.display.Latex object>"
      ]
     },
     "execution_count": 4,
     "metadata": {},
     "output_type": "execute_result"
    }
   ],
   "source": [
    "S_gen = Q_sum-T_sum**2/(m*n)\n",
    "S_fac = T2_sum/n-T_sum**2/(m*n)\n",
    "S_rem = S_gen-S_fac\n",
    "Latex(\"$$S_{заг.} =\"+str(S_gen)+\"$$$$S_{факт.} =\"+str(S_fac)+\"$$$$S_{зал.} =\"+str(S_rem)+\"$$\")"
   ]
  },
  {
   "cell_type": "markdown",
   "metadata": {},
   "source": [
    "Знайдемо факторну і залишкову дисперсії:  \n",
    "$$s^2_{факт.}=\\frac{S_{факт.}}{m-1};  s^2_{зал.}=\\frac{S_{зал.}}{m(n-1)}$$"
   ]
  },
  {
   "cell_type": "code",
   "execution_count": 5,
   "metadata": {},
   "outputs": [
    {
     "data": {
      "text/latex": [
       "$$s^2_{факт.} =95.04166666666667$$$$s^2_{зал.} =33.226190476190474$$"
      ],
      "text/plain": [
       "<IPython.core.display.Latex object>"
      ]
     },
     "execution_count": 5,
     "metadata": {},
     "output_type": "execute_result"
    }
   ],
   "source": [
    "s2_fac = S_fac/(m-1)\n",
    "s2_rem = S_rem/(m*(n-1))\n",
    "Latex(\"$$s^2_{факт.} =\"+str(s2_fac)+\"$$$$s^2_{зал.} =\"+str(s2_rem)+\"$$\")"
   ]
  },
  {
   "cell_type": "markdown",
   "metadata": {},
   "source": [
    "Порівняємо факторну і залишкову дисперсії за критерієм Фішера, для чого знайдемо спостережуване значення критерію:\n",
    "$$F_{спост.}=\\frac{s^2_{факт.}}{s^2_{зал.}}$$"
   ]
  },
  {
   "cell_type": "code",
   "execution_count": 6,
   "metadata": {},
   "outputs": [
    {
     "data": {
      "text/latex": [
       "$$F_{спост.}=2.8604$$Оскільки кількість ступенів вільності чисельника $k_1 = 2$, а знаменника $k_2 = 21$ і рівень значущості $\\alpha = 0.1$, за таблицею для критерію Фішера знаходимо критичну точку (в нашому випадку функцією з `scipy.stats`)"
      ],
      "text/plain": [
       "<IPython.core.display.Latex object>"
      ]
     },
     "execution_count": 6,
     "metadata": {},
     "output_type": "execute_result"
    }
   ],
   "source": [
    "F_obs = round(s2_fac/s2_rem,4)\n",
    "Latex()\n",
    "k1 = m-1\n",
    "k2 = m*(n-1)\n",
    "Latex(r\"$$F_{спост.}=\"+str(F_obs)+\"$$\"+r\"Оскільки кількість ступенів вільності чисельника $k_1 = \"+str(k1)+\"$, а знаменника $k_2 = \"+str(k2)+r\"$ і рівень значущості $\\alpha = \"+str(alpha)+\"$, за таблицею для критерію Фішера знаходимо критичну точку (в нашому випадку функцією з `scipy.stats`)\")"
   ]
  },
  {
   "cell_type": "code",
   "execution_count": 8,
   "metadata": {},
   "outputs": [
    {
     "data": {
      "text/latex": [
       "$$F_{крит.}=2.5746$$"
      ],
      "text/plain": [
       "<IPython.core.display.Latex object>"
      ]
     },
     "execution_count": 8,
     "metadata": {},
     "output_type": "execute_result"
    }
   ],
   "source": [
    "from scipy.stats import f\n",
    "Latex(r\"$$F_{крит.}=\"+str(round(f.ppf(1-alpha, k1, k2),4))+\"$$\")"
   ]
  },
  {
   "cell_type": "markdown",
   "metadata": {},
   "source": [
    "Оскільки $F_{спост.} > F_{кр.}$, гіпотезу про рівність групових середніх відкидаємо"
   ]
  }
 ],
 "metadata": {
  "kernelspec": {
   "display_name": "Python 3",
   "language": "python",
   "name": "python3"
  },
  "language_info": {
   "codemirror_mode": {
    "name": "ipython",
    "version": 3
   },
   "file_extension": ".py",
   "mimetype": "text/x-python",
   "name": "python",
   "nbconvert_exporter": "python",
   "pygments_lexer": "ipython3",
   "version": "3.8.3"
  }
 },
 "nbformat": 4,
 "nbformat_minor": 4
}
