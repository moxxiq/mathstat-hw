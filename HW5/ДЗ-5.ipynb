{
 "cells": [
  {
   "cell_type": "markdown",
   "metadata": {},
   "source": [
    "# Варіант 4\n",
    "## Перевірка гіпотез про вид розподілу\n",
    "#### 1. За допомогою графічного представлення вибірки висунути гіпотезу про вид розподілу.\n",
    "Вхідні дані подані на таблиці\n",
    "\n",
    "|     |     |     |     |     |     |     |     |     |     |\n",
    "|:---:|:---:|:---:|:---:|:---:|:---:|:---:|:---:|:---:|:---:|\n",
    "| 122 | 102 | 124 | 93  | 96  | 103 | 90  | 82  | 99  | 94  |\n",
    "| 117 | 101 | 98  | 103 | 117 | 102 | 84  | 93  | 113 | 99  |\n",
    "| 89  | 118 | 90  | 106 | 113 | 103 | 125 | 99  | 97  | 106 |\n",
    "| 109 | 112 | 104 | 109 | 110 | 86  | 107 | 100 | 90  | 92  |\n",
    "| 103 | 97  | 95  | 94  | 90  | 96  | 100 | 101 | 120 | 101 |\n",
    "| 99  | 104 | 103 | 118 | 97  | 107 | 114 | 89  | 87  | 93  |\n",
    "| 96  | 104 | 82  | 77  | 104 | 101 | 103 | 97  | 101 | 104 |\n",
    "| 91  | 92  | 94  | 102 | 110 | 105 | 102 | 96  | 108 | 114 |\n",
    "| 94  | 95  | 104 | 84  | 113 | 97  | 111 | 98  | 108 | 112 |\n",
    "| 117 | 113 | 105 | 90  | 110 |     |     |     |     |     |"
   ]
  },
  {
   "cell_type": "markdown",
   "metadata": {},
   "source": [
    "Вираховуємо частоту кожного з проміжків і зберігаємо його в словник `historgam`  \n",
    "Будуємо гістограму по обчисленим даним"
   ]
  },
  {
   "cell_type": "code",
   "execution_count": 1,
   "metadata": {
    "scrolled": false
   },
   "outputs": [
    {
     "data": {
      "text/html": [
       "\n",
       "        <iframe\n",
       "            width=\"100%\"\n",
       "            height=\"525px\"\n",
       "            src=\"https://plotly.com/~moxxiq/32.embed\"\n",
       "            frameborder=\"0\"\n",
       "            allowfullscreen\n",
       "        ></iframe>\n",
       "        "
      ],
      "text/plain": [
       "<IPython.lib.display.IFrame at 0x7ff943bbc970>"
      ]
     },
     "execution_count": 1,
     "metadata": {},
     "output_type": "execute_result"
    }
   ],
   "source": [
    "from sys import path\n",
    "path.append('..')\n",
    "import mathstat\n",
    "import chart_studio.plotly as py\n",
    "import plotly.graph_objects as go\n",
    "\n",
    "data = [122, 102, 124, 93, 96, 103, 90, 82, 99, 94, 117, 101, 98, 103, 117, 102, 84, 93, 113, 99, 89, 118, 90, 106, 113, 103, 125, 99, 97, 106, 109, 112, 104, 109, 110, 86, 107, 100, 90, 92, 103, 97, 95, 94, 90, 96, 100, 101, 120, 101, 99, 104, 103, 118, 97, 107, 114, 89, 87, 93, 96, 104, 82, 77, 104, 101, 103, 97, 101, 104, 91, 92, 94, 102, 110, 105, 102, 96, 108, 114, 94, 95, 104, 84, 113, 97, 111, 98, 108, 112, 117, 113, 105, 90, 110]\n",
    "historgam = mathstat.histogramData(data)\n",
    "h = mathstat.h_func(data)\n",
    "plot_data = [go.Bar(x=list(historgam.keys()),\n",
    "            y=list(historgam.values()))]\n",
    "init_notebook_mode(connected=True)  \n",
    "py.iplot(plot_data, filename='HW5-basic_bar')"
   ]
  },
  {
   "cell_type": "markdown",
   "metadata": {},
   "source": [
    "Робимо припущення, що це нормальний розподіл.  "
   ]
  },
  {
   "cell_type": "markdown",
   "metadata": {},
   "source": [
    "#### 2.Перевірити гіпотезу за допомогою критерію $\\chi^2$ на рівні значущості $\\alpha=0.01$"
   ]
  },
  {
   "cell_type": "markdown",
   "metadata": {},
   "source": [
    "Обчислюємо вибіркову середню $\\bar{x}$ і вибіркове середньоквадратичне відхилення $\\sigma_x^*$.  "
   ]
  },
  {
   "cell_type": "code",
   "execution_count": 2,
   "metadata": {},
   "outputs": [
    {
     "name": "stdout",
     "output_type": "stream",
     "text": [
      "sample_mean=101.46315789473684\n",
      "sample_deviation=9.905671449720447\n"
     ]
    }
   ],
   "source": [
    "sample_mean = mathstat.calc_sample_mean(data)\n",
    "sample_deviation = mathstat.math.sqrt(mathstat.calc_variance(data))\n",
    "print(f\"{sample_mean=}\\n{sample_deviation=}\")"
   ]
  },
  {
   "cell_type": "markdown",
   "metadata": {},
   "source": [
    "В нас є кілька інтервалів з відносною частотою < 5 тому об'єднаємо їх **вручну**"
   ]
  },
  {
   "cell_type": "code",
   "execution_count": 3,
   "metadata": {},
   "outputs": [
    {
     "name": "stdout",
     "output_type": "stream",
     "text": [
      "x_i=array([ 77.,  89.,  95., 101., 107., 113., 125.])\n",
      "n_i=array([ 9, 17, 22, 22, 14, 11])\n"
     ]
    }
   ],
   "source": [
    "polygon = mathstat.histogramData(data, polygon = True)\n",
    "x_i, n_i = list(polygon.keys()), list(polygon.values())\n",
    "x_i.append(x_i[-1]+h)\n",
    "x_i = list(map(lambda i:i-h/2, x_i))\n",
    "x_i = mathstat.np.delete(mathstat.np.array(x_i),[1,len(x_i)-2])\n",
    "n_i[1], n_i[-2] = n_i[0]+n_i[1], n_i[-1]+n_i[-2]\n",
    "n_i = mathstat.np.array(n_i[1:-1])\n",
    "print(f\"{x_i=}\\n{n_i=}\")"
   ]
  },
  {
   "cell_type": "markdown",
   "metadata": {},
   "source": [
    "Пронормуємо X, тобто перейдемо до випадкової величини $$Z=\\frac{X-\\bar{x}}{\\sigma_x^*}$$"
   ]
  },
  {
   "cell_type": "code",
   "execution_count": 4,
   "metadata": {},
   "outputs": [
    {
     "name": "stdout",
     "output_type": "stream",
     "text": [
      "Z_i=array([       -inf, -1.25818406, -0.65247045, -0.04675684,  0.55895677,\n",
      "        1.16467038,         inf])\n"
     ]
    }
   ],
   "source": [
    "Z_i = (x_i-sample_mean)/sample_deviation\n",
    "Z_i[0]=mathstat.np.NINF\n",
    "Z_i[-1]=mathstat.np.inf\n",
    "print(f\"{Z_i=}\")"
   ]
  },
  {
   "cell_type": "markdown",
   "metadata": {},
   "source": [
    "Обчислюємо теоретичні частоти $n_i^{'}=n\\cdot P_i$\n",
    "де $n$ – об’єм вибірки (сума всіх частот) $$P_i =Ф(z_{i+1})-Ф(z_i)$$ – функція Лапласа, значення якої знаходяться за таблицею, в нашому випадку за модулем `scipy.special.erf` але на практичних ми використовуємо нормоване значення, тому аргумент ділимо на $\\sqrt{2}$ а значення на 2, тому в модулі `mathstat` вже зроблена виправлена функція"
   ]
  },
  {
   "cell_type": "code",
   "execution_count": 5,
   "metadata": {},
   "outputs": [
    {
     "name": "stdout",
     "output_type": "stream",
     "text": [
      "P_i=array([0.1041626 , 0.15288627, 0.22430465, 0.23055087, 0.16601939,\n",
      "       0.12207622])\n",
      "n_prime_i=array([ 9.89544697, 14.52419523, 21.30894163, 21.90233299, 15.77184208,\n",
      "       11.5972411 ])\n"
     ]
    }
   ],
   "source": [
    "P_i = mathstat.norm_erf(Z_i[1:])-mathstat.norm_erf(Z_i[:-1])\n",
    "print(f\"{P_i=}\")\n",
    "n_prime_i = len(data)*P_i\n",
    "print(f\"{n_prime_i=}\")"
   ]
  },
  {
   "cell_type": "markdown",
   "metadata": {},
   "source": [
    "Знаходимо спостережуване значення критерію $$\\chi^2_{спост.}=\\sum\\frac{(n_i-n_i^{'})^2}{n_i^{'}}$$"
   ]
  },
  {
   "cell_type": "code",
   "execution_count": 6,
   "metadata": {},
   "outputs": [
    {
     "name": "stdout",
     "output_type": "stream",
     "text": [
      "chi_2=0.7557135579690212\n",
      "alpha=0.01\n",
      "k=3\n"
     ]
    }
   ],
   "source": [
    "chi_2 = sum((n_i-n_prime_i)**2/n_prime_i)\n",
    "alpha = 0.01\n",
    "k = len(n_i)-3\n",
    "print(f\"{chi_2=}\\n{alpha=}\\n{k=}\")"
   ]
  },
  {
   "cell_type": "markdown",
   "metadata": {},
   "source": [
    "За таблицею критичних точок розподілу $\\chi^2$ (в нашому випадку за функцією з модуля `s`), за заданим рівнем значущості $\\alpha$  і кількістю ступенів вільності k знаходимо критичну точку"
   ]
  },
  {
   "cell_type": "code",
   "execution_count": 7,
   "metadata": {},
   "outputs": [
    {
     "name": "stdout",
     "output_type": "stream",
     "text": [
      "Критична точка хі-квадрат = 11.344866730144373\n"
     ]
    }
   ],
   "source": [
    "from scipy.stats import chi2\n",
    "chi_critical = chi2.ppf(1-alpha, k)\n",
    "print(f\"Критична точка хі-квадрат = {chi_critical}\")"
   ]
  },
  {
   "cell_type": "markdown",
   "metadata": {},
   "source": [
    "Оскільки $\\chi_{спост.}<\\chi_{крит.} 0.76 < 11.34$, немає підстав відхилити гіпотезу про нормальний розподіл X"
   ]
  }
 ],
 "metadata": {
  "kernelspec": {
   "display_name": "Python 3",
   "language": "python",
   "name": "python3"
  },
  "language_info": {
   "codemirror_mode": {
    "name": "ipython",
    "version": 3
   },
   "file_extension": ".py",
   "mimetype": "text/x-python",
   "name": "python",
   "nbconvert_exporter": "python",
   "pygments_lexer": "ipython3",
   "version": "3.8.3"
  }
 },
 "nbformat": 4,
 "nbformat_minor": 2
}
